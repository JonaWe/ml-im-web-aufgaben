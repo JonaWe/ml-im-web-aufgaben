{
 "cells": [
  {
   "attachments": {},
   "cell_type": "markdown",
   "metadata": {},
   "source": [
    "Take two real data sets which also carry label information with dimensionality higher\n",
    "than 50 (e.g. MNIST, Fashion-MNIST, Kuzushiji-MNIST, ...1\n",
    "). Test the following:\n",
    "in how far do clustering algorithms provide reasonable clusters which align to the\n",
    "given classes if (i) the clustering methods are used directly, (ii) clustering is used\n",
    "after dimensionality reduction (e.g. UMAP). Evaluate this quantitatively!"
   ]
  },
  {
   "cell_type": "code",
   "execution_count": 2,
   "metadata": {},
   "outputs": [
    {
     "name": "stdout",
     "output_type": "stream",
     "text": [
      "Dataset: digits\n",
      "KMeans: 0.7902058987200891\n",
      "AgglomerativeClustering: 0.8619922092376182\n",
      "AffinityPropagation: 0.9693934335002783\n",
      "KMeans UMAP(10 dimensions): 0.8809126321647189\n",
      "AgglomerativeClustering UMAP(10 dimensions): 0.8809126321647189\n",
      "AffinityPropagation UMAP(10 dimensions): 0.9794101279910963\n",
      "\n",
      "Dataset: Fashion-MNIST\n",
      "KMeans: 0.5425\n",
      "AgglomerativeClustering: 0.5465\n",
      "AffinityPropagation: 0.7055\n",
      "KMeans UMAP(10 dimensions): 0.6775\n",
      "AgglomerativeClustering UMAP(10 dimensions): 0.654\n",
      "AffinityPropagation UMAP(10 dimensions): 0.697\n",
      "\n"
     ]
    }
   ],
   "source": [
    "from sklearn import datasets\n",
    "from sklearn.cluster import KMeans, AffinityPropagation, AgglomerativeClustering\n",
    "\n",
    "import numpy as np\n",
    "import umap\n",
    "\n",
    "# ignore warnings from sklearn regarding the AffinityPropagation algorithm\n",
    "import warnings\n",
    "warnings.filterwarnings(\"ignore\")\n",
    "\n",
    "# Load the digits dataset\n",
    "digits_data = datasets.load_digits()\n",
    "\n",
    "# Load the Fashioni-MNIST dataset\n",
    "fashion_data = datasets.fetch_openml(data_id=44698, cache=True, as_frame=False)\n",
    "\n",
    "\n",
    "def calculate_accuracy(X_prediction, y_correct):\n",
    "    pred_vs_real = np.c_[X_prediction, y_correct]\n",
    "\n",
    "    correct_classifications = 0\n",
    "\n",
    "    n_clusters = max(X_prediction) + 1\n",
    "\n",
    "    for i in range(n_clusters):\n",
    "        correct_label_in_current_cluster = pred_vs_real[pred_vs_real[:,0] == i][:,1]\n",
    "        \n",
    "        samples_per_label = np.unique(correct_label_in_current_cluster, return_counts=True)\n",
    "\n",
    "        most_occurring_label_index = np.argmax(samples_per_label[1])\n",
    "\n",
    "        predicted_labels = samples_per_label[0][most_occurring_label_index]\n",
    "\n",
    "        correct_classifications_for_cluster_i = np.sum(correct_label_in_current_cluster == predicted_labels)\n",
    "\n",
    "        correct_classifications += correct_classifications_for_cluster_i\n",
    "    \n",
    "    misclassifications = len(X_prediction) - correct_classifications\n",
    "\n",
    "    return correct_classifications / (correct_classifications + misclassifications)\n",
    "\n",
    "\n",
    "datasets = [(digits_data, 'digits'), (fashion_data, 'Fashion-MNIST')]\n",
    "\n",
    "n_cluster = 10\n",
    "\n",
    "n_components = 10\n",
    "\n",
    "for dataset, dataset_name in datasets:\n",
    "    print(f\"Dataset: {dataset_name}\")\n",
    "    X, y = dataset.data, dataset.target\n",
    "    \n",
    "    X_umap = umap.UMAP(random_state=42, n_components=n_components).fit_transform(X)\n",
    "\n",
    "    for X, is_umap in [(X, False), (X_umap, True)]:\n",
    "        kmeans_prediction = KMeans(n_clusters=n_cluster, random_state=42).fit_predict(X)\n",
    "\n",
    "        ac_prediction = AgglomerativeClustering(n_clusters=n_cluster).fit_predict(X)\n",
    "\n",
    "        ap_prediction = AffinityPropagation().fit_predict(X)\n",
    "\n",
    "        kmeans_precision = calculate_accuracy(kmeans_prediction, y)\n",
    "        ac_precision = calculate_accuracy(ac_prediction, y)\n",
    "        ap_precision = calculate_accuracy(ap_prediction, y)\n",
    "\n",
    "        umap_str = f\" UMAP({n_components} dimensions)\" if is_umap else \"\"\n",
    "\n",
    "        print(f\"KMeans{umap_str}: {kmeans_precision}\")\n",
    "        print(f\"AgglomerativeClustering{umap_str}: {ac_precision}\")\n",
    "        print(f\"AffinityPropagation{umap_str}: {ap_precision}\")\n",
    "        \n",
    "    print()"
   ]
  }
 ],
 "metadata": {
  "kernelspec": {
   "display_name": "Python 3",
   "language": "python",
   "name": "python3"
  },
  "language_info": {
   "codemirror_mode": {
    "name": "ipython",
    "version": 3
   },
   "file_extension": ".py",
   "mimetype": "text/x-python",
   "name": "python",
   "nbconvert_exporter": "python",
   "pygments_lexer": "ipython3",
   "version": "3.10.8"
  },
  "orig_nbformat": 4,
  "vscode": {
   "interpreter": {
    "hash": "e7370f93d1d0cde622a1f8e1c04877d8463912d04d973331ad4851f04de6915a"
   }
  }
 },
 "nbformat": 4,
 "nbformat_minor": 2
}
